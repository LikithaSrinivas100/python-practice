{
 "cells": [
  {
   "cell_type": "code",
   "execution_count": 5,
   "id": "277daef7-4203-4427-92c7-244c9f7a0571",
   "metadata": {},
   "outputs": [
    {
     "name": "stdout",
     "output_type": "stream",
     "text": [
      "1\n",
      "2\n",
      "3\n",
      "4\n",
      "5\n",
      "6\n",
      "7\n",
      "8\n",
      "9\n",
      "10\n"
     ]
    }
   ],
   "source": [
    "#1_ print first 10 natural numbers using for loop\n",
    "\n",
    "n = 1\n",
    "for i in range(1, 11):\n",
    "    print(i)"
   ]
  },
  {
   "cell_type": "code",
   "execution_count": null,
   "id": "3aeacb4b-aa3e-47fa-9b53-c52635afaa53",
   "metadata": {},
   "outputs": [],
   "source": [
    "#1 using while loop\n",
    "\n",
    "i = 1\n",
    "while i <=10:\n",
    "    print(i)\n",
    "    i +=1"
   ]
  },
  {
   "cell_type": "code",
   "execution_count": null,
   "id": "856d5737-a217-4168-b280-eab8cc3c5fb7",
   "metadata": {},
   "outputs": [],
   "source": [
    "i = 1\n",
    "while i<=10:\n",
    "    print(i)\n",
    "    i = i+1"
   ]
  },
  {
   "cell_type": "code",
   "execution_count": null,
   "id": "913f72c6-431a-4ce3-8ac9-ad952d537964",
   "metadata": {},
   "outputs": [],
   "source": []
  }
 ],
 "metadata": {
  "kernelspec": {
   "display_name": "Python 3 (ipykernel)",
   "language": "python",
   "name": "python3"
  },
  "language_info": {
   "codemirror_mode": {
    "name": "ipython",
    "version": 3
   },
   "file_extension": ".py",
   "mimetype": "text/x-python",
   "name": "python",
   "nbconvert_exporter": "python",
   "pygments_lexer": "ipython3",
   "version": "3.12.4"
  }
 },
 "nbformat": 4,
 "nbformat_minor": 5
}
