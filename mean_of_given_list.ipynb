{
  "nbformat": 4,
  "nbformat_minor": 0,
  "metadata": {
    "colab": {
      "provenance": [],
      "authorship_tag": "ABX9TyPBlJJd3l9IiLX/TPs+heAZ",
      "include_colab_link": true
    },
    "kernelspec": {
      "name": "python3",
      "display_name": "Python 3"
    },
    "language_info": {
      "name": "python"
    }
  },
  "cells": [
    {
      "cell_type": "markdown",
      "metadata": {
        "id": "view-in-github",
        "colab_type": "text"
      },
      "source": [
        "<a href=\"https://colab.research.google.com/github/LikithaSrinivas100/python-practice/blob/main/mean_of_given_list.ipynb\" target=\"_parent\"><img src=\"https://colab.research.google.com/assets/colab-badge.svg\" alt=\"Open In Colab\"/></a>"
      ]
    },
    {
      "cell_type": "code",
      "execution_count": null,
      "metadata": {
        "colab": {
          "base_uri": "https://localhost:8080/"
        },
        "id": "zWAQO_dejdqx",
        "outputId": "2d630a0a-d9f5-414d-997b-edba3902ea31"
      },
      "outputs": [
        {
          "output_type": "stream",
          "name": "stdout",
          "text": [
            "5\n",
            "24135\n",
            "['2', '4', '1', '3', '5']\n",
            "mean is  3.0\n"
          ]
        }
      ],
      "source": [
        "#program to find the mean of the elements  in an array\n",
        "size = int(input())\n",
        "list = []\n",
        "values = (input())\n",
        "for i in values:\n",
        "  list.append(i)\n",
        "print(list)\n",
        "sum = 0\n",
        "for i in list:\n",
        "  sum = sum + int(i)\n",
        "mean = sum/size\n",
        "print(\"mean is \", mean)"
      ]
    },
    {
      "cell_type": "code",
      "source": [],
      "metadata": {
        "id": "4bpnH9yfkCDk"
      },
      "execution_count": null,
      "outputs": []
    }
  ]
}