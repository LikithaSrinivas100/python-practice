{
  "nbformat": 4,
  "nbformat_minor": 0,
  "metadata": {
    "colab": {
      "provenance": []
    },
    "kernelspec": {
      "name": "python3",
      "display_name": "Python 3"
    },
    "language_info": {
      "name": "python"
    }
  },
  "cells": [
    {
      "cell_type": "code",
      "source": [
        "#reverse the string and check whether its palindrome or not using for loop\n",
        "name = str(input())\n",
        "rev_name = \"\"\n",
        "for i in name:\n",
        "    rev_name = i + rev_name\n",
        "print(rev_name)\n",
        "if name == rev_name:\n",
        "    print(\"palindrome\")\n",
        "else:\n",
        "    print(\"not palindrome\")"
      ],
      "metadata": {
        "colab": {
          "base_uri": "https://localhost:8080/"
        },
        "id": "K_Da3qTfLqt6",
        "outputId": "20f5643c-da58-4eb5-a03d-ffa8f492753f"
      },
      "execution_count": 8,
      "outputs": [
        {
          "output_type": "stream",
          "name": "stdout",
          "text": [
            "malayalam\n",
            "malayalam\n",
            "palindrome\n"
          ]
        }
      ]
    },
    {
      "cell_type": "code",
      "source": [
        "#reverse the string and check whether its palindrome or not using while loop\n",
        "name = str(input())\n",
        "rev_name = \"\"\n",
        "i = len(name) - 1\n",
        "while i >= 0:\n",
        "    rev_name = rev_name + name[i]\n",
        "    i = i - 1\n",
        "print(rev_name)\n",
        "if name == rev_name:\n",
        "    print(\"palindrome\")\n",
        "else:\n",
        "    print(\"not palindrome\")\n"
      ],
      "metadata": {
        "colab": {
          "base_uri": "https://localhost:8080/"
        },
        "id": "xl1-3MPHMwX7",
        "outputId": "b50db588-8b23-473f-fb1c-12afc650df07"
      },
      "execution_count": 10,
      "outputs": [
        {
          "output_type": "stream",
          "name": "stdout",
          "text": [
            "malayalam\n",
            "malayalam\n",
            "palindrome\n"
          ]
        }
      ]
    },
    {
      "cell_type": "code",
      "source": [
        "#count the number of alphabet and digit which is present in a given string\n",
        "s = str(input())\n",
        "alpha = 0\n",
        "digit = 0\n",
        "for i in s:\n",
        "    if i.isalpha():\n",
        "        alpha = alpha + 1\n",
        "    elif i.isdigit():\n",
        "        digit = digit + 1\n",
        "print(alpha)\n",
        "print(digit)"
      ],
      "metadata": {
        "colab": {
          "base_uri": "https://localhost:8080/"
        },
        "id": "kaFFgUMURLG9",
        "outputId": "e24a4eb6-4766-4cde-a9a4-b4decab4338b"
      },
      "execution_count": 11,
      "outputs": [
        {
          "output_type": "stream",
          "name": "stdout",
          "text": [
            "likitha25052006\n",
            "7\n",
            "8\n"
          ]
        }
      ]
    }
  ]
}