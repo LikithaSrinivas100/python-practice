{
  "nbformat": 4,
  "nbformat_minor": 0,
  "metadata": {
    "colab": {
      "provenance": []
    },
    "kernelspec": {
      "name": "python3",
      "display_name": "Python 3"
    },
    "language_info": {
      "name": "python"
    }
  },
  "cells": [
    {
      "cell_type": "code",
      "execution_count": 6,
      "metadata": {
        "colab": {
          "base_uri": "https://localhost:8080/"
        },
        "id": "y9yoU0k5VnSC",
        "outputId": "75e2d8aa-fd73-4ec5-b74c-8d18f1a59b1c"
      },
      "outputs": [
        {
          "output_type": "stream",
          "name": "stdout",
          "text": [
            "10\n",
            "2\n",
            "4\n",
            "6\n",
            "8\n",
            "10\n"
          ]
        }
      ],
      "source": [
        "#print all even no within the given range\n",
        "n = int(input())\n",
        "for i in range(1,n+1):\n",
        "    if i%2==0:\n",
        "        print(i)"
      ]
    },
    {
      "cell_type": "code",
      "source": [],
      "metadata": {
        "id": "r9b_vzA8V9lA"
      },
      "execution_count": null,
      "outputs": []
    }
  ]
}