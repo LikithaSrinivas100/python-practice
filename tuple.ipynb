{
  "nbformat": 4,
  "nbformat_minor": 0,
  "metadata": {
    "colab": {
      "provenance": [],
      "authorship_tag": "ABX9TyMTpz57ooIoQakPKIiI3Lqh",
      "include_colab_link": true
    },
    "kernelspec": {
      "name": "python3",
      "display_name": "Python 3"
    },
    "language_info": {
      "name": "python"
    }
  },
  "cells": [
    {
      "cell_type": "markdown",
      "metadata": {
        "id": "view-in-github",
        "colab_type": "text"
      },
      "source": [
        "<a href=\"https://colab.research.google.com/github/LikithaSrinivas100/python-practice/blob/main/tuple.ipynb\" target=\"_parent\"><img src=\"https://colab.research.google.com/assets/colab-badge.svg\" alt=\"Open In Colab\"/></a>"
      ]
    },
    {
      "cell_type": "code",
      "execution_count": null,
      "metadata": {
        "colab": {
          "base_uri": "https://localhost:8080/"
        },
        "id": "7H6gPPpfcfJH",
        "outputId": "8a720169-716b-46a5-cf5a-52a448150d32"
      },
      "outputs": [
        {
          "output_type": "stream",
          "name": "stdout",
          "text": [
            "python\n",
            "t\n",
            "2\n"
          ]
        }
      ],
      "source": [
        "#to find the index of an item of a tuple\n",
        "tuple = input()\n",
        "item = input()\n",
        "for i in range(len(tuple)):\n",
        "    if tuple[i] == item:\n",
        "        print(i)"
      ]
    },
    {
      "cell_type": "code",
      "source": [
        "#program to reverse a tuple\n",
        "tuple = input()\n",
        "print(tuple[::-1])\n"
      ],
      "metadata": {
        "colab": {
          "base_uri": "https://localhost:8080/"
        },
        "id": "ryFEJuSAeUYX",
        "outputId": "aacc50be-edc4-4870-a813-d8c23963dbc7"
      },
      "execution_count": null,
      "outputs": [
        {
          "output_type": "stream",
          "name": "stdout",
          "text": [
            "1234567890\n",
            "0987654321\n"
          ]
        }
      ]
    },
    {
      "cell_type": "code",
      "source": [
        "#program that takes a list of tuples and sorts the list of tuples in increasing order by the last element in each tuple\n",
        "list1 = [(2,5), (1,2), (4,4), (2,3)]\n",
        "list2 = [(2,5), (1,2), (4,4)]\n",
        "sort_list1 = sorted(list1, key=lambda x: x[-1])\n",
        "sort_list2 = sorted(list2, key=lambda x: x[-1])\n",
        "print(sort_list1)\n",
        "print(sort_list2)"
      ],
      "metadata": {
        "id": "XqYfLMBTVNxn",
        "colab": {
          "base_uri": "https://localhost:8080/"
        },
        "outputId": "29e95a9a-db5e-4857-872f-6b23422f6a14"
      },
      "execution_count": null,
      "outputs": [
        {
          "output_type": "stream",
          "name": "stdout",
          "text": [
            "[(1, 2), (2, 3), (4, 4), (2, 5)]\n",
            "[(1, 2), (4, 4), (2, 5)]\n"
          ]
        }
      ]
    },
    {
      "cell_type": "code",
      "source": [
        "#program to restrict the frequency of the 1st element of tuple values to at most k\n",
        "list = [(2,3), (3,3), (1,4), (2,4), (2,5), (3,4), (1,4), (3,4), (4,7),]\n",
        "k = int(input())\n",
        "for i in range(len(list)):\n",
        "    count\n"
      ],
      "metadata": {
        "id": "GgItiRh-WbYC"
      },
      "execution_count": null,
      "outputs": []
    },
    {
      "cell_type": "code",
      "source": [
        "#find repeated items in a tuple\n",
        "tuple = input()\n",
        "item = input()\n",
        "print(tuple.count(item))"
      ],
      "metadata": {
        "colab": {
          "base_uri": "https://localhost:8080/"
        },
        "id": "e_skPp-Lc_wE",
        "outputId": "631c9a35-658a-477b-8c58-917727021dad"
      },
      "execution_count": null,
      "outputs": [
        {
          "output_type": "stream",
          "name": "stdout",
          "text": [
            "1251461781\n",
            "1\n",
            "4\n"
          ]
        }
      ]
    },
    {
      "cell_type": "code",
      "source": [
        "#find the index of item\n",
        "tuple = input()\n",
        "item = input()\n",
        "print(tuple.index(item))\n",
        "tuple"
      ],
      "metadata": {
        "colab": {
          "base_uri": "https://localhost:8080/",
          "height": 88
        },
        "id": "uvEV8ru_dR3s",
        "outputId": "3c6477a1-0507-4677-b03b-7b9cf152a6b3"
      },
      "execution_count": null,
      "outputs": [
        {
          "output_type": "stream",
          "name": "stdout",
          "text": [
            "python\n",
            "t\n",
            "2\n"
          ]
        },
        {
          "output_type": "execute_result",
          "data": {
            "text/plain": [
              "'python'"
            ],
            "application/vnd.google.colaboratory.intrinsic+json": {
              "type": "string"
            }
          },
          "metadata": {},
          "execution_count": 16
        }
      ]
    },
    {
      "cell_type": "code",
      "source": [
        "#covert tuple to string\n",
        "tuple = input()\n",
        "string = \"\"\n",
        "for i in tuple:\n",
        "    string += i\n",
        "print(string)"
      ],
      "metadata": {
        "colab": {
          "base_uri": "https://localhost:8080/"
        },
        "id": "uk4lWEIClHD_",
        "outputId": "162ffd6c-6474-438d-ff3b-688bc8d77275"
      },
      "execution_count": null,
      "outputs": [
        {
          "output_type": "stream",
          "name": "stdout",
          "text": [
            "python\n",
            "python\n"
          ]
        }
      ]
    },
    {
      "cell_type": "code",
      "source": [],
      "metadata": {
        "id": "4fCH1VpFpaH3"
      },
      "execution_count": null,
      "outputs": []
    }
  ]
}